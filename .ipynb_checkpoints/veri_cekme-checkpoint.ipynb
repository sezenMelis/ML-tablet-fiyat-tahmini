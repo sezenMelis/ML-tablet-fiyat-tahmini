{
 "cells": [
  {
   "cell_type": "code",
   "execution_count": 254,
   "id": "d115876b",
   "metadata": {},
   "outputs": [],
   "source": [
    "from bs4 import BeautifulSoup\n",
    "import requests\n",
    "import pandas as pd\n",
    "import numpy as np"
   ]
  },
  {
   "cell_type": "code",
   "execution_count": 255,
   "id": "88fb557b",
   "metadata": {},
   "outputs": [],
   "source": [
    "liste = []\n",
    "a=1\n",
    "\n",
    "while a <= 80 :\n",
    "    headers = {'User-Agent': 'Mozilla/5.0 (Windows NT 10.0; Win64; x64) AppleWebKit/537.36 (KHTML, like Gecko) Chrome/120.0.0.0 Safari/537.36'}\n",
    "    r = requests.get(\"https://www.hepsiburada.com/ara?q=tablet&sayfa=\"+str(a)+\"\",headers=headers)\n",
    "    soup = BeautifulSoup(r.content, \"lxml\")\n",
    "    product_content_div = soup.find(\"div\", attrs={\"class\": \"productListContent-pXUkO4iHa51o_17CBibU\"})\n",
    "    product_list_ul = product_content_div.find(\"ul\", attrs={\"class\":\"productListContent-frGrtf5XrVXRwJ05HUfU productListContent-rEYj2_8SETJUeqNhyzSm\"})\n",
    "    product_items = product_list_ul.find_all(\"li\", attrs={\"class\": \"productListContent-zAP0Y5msy8OHn5z7T_K_\"})\n",
    "\n",
    "    for product_item in product_items:\n",
    "        base_link = \"https://www.hepsiburada.com/\"\n",
    "        link_end = product_item.a.get(\"href\")\n",
    "        link = base_link + link_end\n",
    "       \n",
    "        headers = {'User-Agent': 'Mozilla/5.0 (Windows NT 10.0; Win64; x64) AppleWebKit/537.36 (KHTML, like Gecko) Chrome/120.0.0.0 Safari/537.36'}\n",
    "        r1 = requests.get(link, headers=headers)\n",
    "        soup1 = BeautifulSoup(r1.content, \"lxml\")\n",
    "       \n",
    "        brand = soup1.find(\"a\", attrs={\"data-bind\": \"attr: {'data-hbus': userInformation() && userInformation().userId && isEventReady() ? productDetailHbus('BrandClick') : '' }\"})\n",
    "        brand = brand.text.strip() if brand else None\n",
    "     \n",
    "        price_element = soup1.find(\"del\", attrs={\"id\": \"originalPrice\"})\n",
    "        price = price_element.text.strip() if price_element else None\n",
    "        \n",
    "        properties = soup1.find(\"table\", attrs={\"class\": \"data-list tech-spec\"})\n",
    "        prop_soup = BeautifulSoup(str(properties), \"html.parser\")  \n",
    "        prop_dict = {}\n",
    "\n",
    "        if properties:\n",
    "            prop_soup = BeautifulSoup(str(properties), \"html.parser\")\n",
    "            for tr in prop_soup.find_all(\"tr\"):\n",
    "                th = tr.find(\"th\")\n",
    "                td = tr.find(\"span\")\n",
    "                \n",
    "                prop_dict[prop_title] = prop_value\n",
    "                          \n",
    "        row_dict = {\n",
    "            'marka': brand,\n",
    "            'fiyat': price,\n",
    "            'ekrancozunurluk': prop_dict.get('Max Ekran Çözünürlüğü',None),\n",
    "            'kalem': prop_dict.get('Kalem Uyumluluğu',None),\n",
    "            'ram': prop_dict.get('Ram Kapasitesi',None),\n",
    "            'pil ':  prop_dict.get('Pil Gücü (mAh)',None),\n",
    "            'isletimsistemitabani': prop_dict.get('İşletim Sistemi Tabanı',None),\n",
    "            'isletimsistemi': prop_dict.get('İşletim Sistemi',None),\n",
    "            'islemcimarka': prop_dict.get('İşlemci Markası',None),\n",
    "            'islemcicekirdek': prop_dict.get('İşlemci Çekirdek Sayısı',None),\n",
    "            'ekranboyutu': prop_dict.get('Ekran Boyutu',None),\n",
    "            'HDMI': prop_dict.get('HDMI',None),\n",
    "            'diskkapasitesi': prop_dict.get('Disk Kapasitesi',None),\n",
    "            'MobilBağlantı': prop_dict.get('Mobil Bağlantı',None),\n",
    "            'EkranModeli': prop_dict.get('Ekran Modeli',None),\n",
    "            'Bluetooth': prop_dict.get('Bluetooth',None)\n",
    "        }\n",
    "\n",
    "        liste.append(row_dict)\n",
    "     \n",
    "    a += 1\n",
    "     "
   ]
  },
  {
   "cell_type": "code",
   "execution_count": 256,
   "id": "d10f984e",
   "metadata": {},
   "outputs": [],
   "source": [
    "df = pd.DataFrame(liste)\n",
    "df.to_excel(\"hepsio.xlsx\", index=False)"
   ]
  },
  {
   "cell_type": "code",
   "execution_count": null,
   "id": "cd9a21f8",
   "metadata": {},
   "outputs": [],
   "source": []
  }
 ],
 "metadata": {
  "kernelspec": {
   "display_name": "Python 3 (ipykernel)",
   "language": "python",
   "name": "python3"
  },
  "language_info": {
   "codemirror_mode": {
    "name": "ipython",
    "version": 3
   },
   "file_extension": ".py",
   "mimetype": "text/x-python",
   "name": "python",
   "nbconvert_exporter": "python",
   "pygments_lexer": "ipython3",
   "version": "3.11.4"
  }
 },
 "nbformat": 4,
 "nbformat_minor": 5
}
