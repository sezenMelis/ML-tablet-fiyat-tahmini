{
 "cells": [
  {
   "cell_type": "markdown",
   "id": "aba6c961",
   "metadata": {},
   "source": [
    "# VERİ ÖN İŞLEME"
   ]
  },
  {
   "cell_type": "code",
   "execution_count": 1,
   "id": "b81dc498",
   "metadata": {},
   "outputs": [],
   "source": [
    "import pandas as pd\n",
    "import numpy as np\n",
    "import seaborn as sns\n",
    "import matplotlib.pyplot as plt"
   ]
  },
  {
   "cell_type": "code",
   "execution_count": 2,
   "id": "90737903",
   "metadata": {},
   "outputs": [
    {
     "data": {
      "text/html": [
       "<div>\n",
       "<style scoped>\n",
       "    .dataframe tbody tr th:only-of-type {\n",
       "        vertical-align: middle;\n",
       "    }\n",
       "\n",
       "    .dataframe tbody tr th {\n",
       "        vertical-align: top;\n",
       "    }\n",
       "\n",
       "    .dataframe thead th {\n",
       "        text-align: right;\n",
       "    }\n",
       "</style>\n",
       "<table border=\"1\" class=\"dataframe\">\n",
       "  <thead>\n",
       "    <tr style=\"text-align: right;\">\n",
       "      <th></th>\n",
       "      <th>marka</th>\n",
       "      <th>fiyat</th>\n",
       "      <th>pil</th>\n",
       "      <th>ekrancozunurluk</th>\n",
       "      <th>kalem</th>\n",
       "      <th>ram</th>\n",
       "      <th>isletimsistemitabani</th>\n",
       "      <th>isletimsistemi</th>\n",
       "      <th>islemcimarka</th>\n",
       "      <th>islemcicekirdek</th>\n",
       "      <th>ekranboyutu</th>\n",
       "      <th>HDMI</th>\n",
       "      <th>diskkapasitesi</th>\n",
       "      <th>MobilBağlantı</th>\n",
       "      <th>EkranModeli</th>\n",
       "      <th>Bluetooth</th>\n",
       "    </tr>\n",
       "  </thead>\n",
       "  <tbody>\n",
       "    <tr>\n",
       "      <th>0</th>\n",
       "      <td>Huawei</td>\n",
       "      <td>8999.0</td>\n",
       "      <td>7700.0</td>\n",
       "      <td>2200 x 1440</td>\n",
       "      <td>Evet</td>\n",
       "      <td>8</td>\n",
       "      <td>HarmonyOS</td>\n",
       "      <td>HarmonyOS 3.1</td>\n",
       "      <td>Qualcomm</td>\n",
       "      <td>Sekiz Çekirdekli İşlemci</td>\n",
       "      <td>11.5</td>\n",
       "      <td>Yok</td>\n",
       "      <td>128</td>\n",
       "      <td>Yok</td>\n",
       "      <td>IPS Ekran</td>\n",
       "      <td>Var</td>\n",
       "    </tr>\n",
       "    <tr>\n",
       "      <th>1</th>\n",
       "      <td>HONOR</td>\n",
       "      <td>6499.0</td>\n",
       "      <td>7250.0</td>\n",
       "      <td>2000 x 1200</td>\n",
       "      <td>Evet</td>\n",
       "      <td>4</td>\n",
       "      <td>Android</td>\n",
       "      <td>Android 13</td>\n",
       "      <td>Qualcomm Snapdragon 685</td>\n",
       "      <td>Sekiz Çekirdekli İşlemci</td>\n",
       "      <td>11.5</td>\n",
       "      <td>Yok</td>\n",
       "      <td>128</td>\n",
       "      <td>Yok</td>\n",
       "      <td>IPS Ekran</td>\n",
       "      <td>Var</td>\n",
       "    </tr>\n",
       "    <tr>\n",
       "      <th>2</th>\n",
       "      <td>Samsung</td>\n",
       "      <td>10849.0</td>\n",
       "      <td>10090.0</td>\n",
       "      <td>2560 x 1600</td>\n",
       "      <td>Evet</td>\n",
       "      <td>4</td>\n",
       "      <td>Android</td>\n",
       "      <td>Android 10</td>\n",
       "      <td>Qualcomm</td>\n",
       "      <td>Sekiz Çekirdekli İşlemci</td>\n",
       "      <td>12.4</td>\n",
       "      <td>Yok</td>\n",
       "      <td>64</td>\n",
       "      <td>Yok</td>\n",
       "      <td>TFT</td>\n",
       "      <td>Var</td>\n",
       "    </tr>\n",
       "    <tr>\n",
       "      <th>3</th>\n",
       "      <td>Huawei</td>\n",
       "      <td>7389.0</td>\n",
       "      <td>7250.0</td>\n",
       "      <td>2000 x 1200</td>\n",
       "      <td>Evet</td>\n",
       "      <td>4</td>\n",
       "      <td>HarmonyOS 2</td>\n",
       "      <td>HarmonyOS 2</td>\n",
       "      <td>Kirin</td>\n",
       "      <td>Yok</td>\n",
       "      <td>10.4</td>\n",
       "      <td>Yok</td>\n",
       "      <td>128</td>\n",
       "      <td>Yok</td>\n",
       "      <td>IPS Ekran</td>\n",
       "      <td>Var</td>\n",
       "    </tr>\n",
       "    <tr>\n",
       "      <th>4</th>\n",
       "      <td>Samsung</td>\n",
       "      <td>9099.0</td>\n",
       "      <td>7040.0</td>\n",
       "      <td>1920 x 1200</td>\n",
       "      <td>Evet</td>\n",
       "      <td>4</td>\n",
       "      <td>Android</td>\n",
       "      <td>Android 10</td>\n",
       "      <td>Samsung Exynos</td>\n",
       "      <td>Sekiz Çekirdekli İşlemci</td>\n",
       "      <td>10.4</td>\n",
       "      <td>Yok</td>\n",
       "      <td>64</td>\n",
       "      <td>Yok</td>\n",
       "      <td>TFT</td>\n",
       "      <td>Var</td>\n",
       "    </tr>\n",
       "  </tbody>\n",
       "</table>\n",
       "</div>"
      ],
      "text/plain": [
       "     marka    fiyat     pil  ekrancozunurluk kalem ram isletimsistemitabani  \\\n",
       "0   Huawei   8999.0   7700.0     2200 x 1440  Evet   8            HarmonyOS   \n",
       "1    HONOR   6499.0   7250.0     2000 x 1200  Evet   4              Android   \n",
       "2  Samsung  10849.0  10090.0     2560 x 1600  Evet   4              Android   \n",
       "3   Huawei   7389.0   7250.0     2000 x 1200  Evet   4          HarmonyOS 2   \n",
       "4  Samsung   9099.0   7040.0     1920 x 1200  Evet   4              Android   \n",
       "\n",
       "  isletimsistemi             islemcimarka           islemcicekirdek  \\\n",
       "0  HarmonyOS 3.1                 Qualcomm  Sekiz Çekirdekli İşlemci   \n",
       "1     Android 13  Qualcomm Snapdragon 685  Sekiz Çekirdekli İşlemci   \n",
       "2     Android 10                 Qualcomm  Sekiz Çekirdekli İşlemci   \n",
       "3    HarmonyOS 2                    Kirin                       Yok   \n",
       "4     Android 10           Samsung Exynos  Sekiz Çekirdekli İşlemci   \n",
       "\n",
       "   ekranboyutu HDMI  diskkapasitesi MobilBağlantı EkranModeli Bluetooth  \n",
       "0         11.5  Yok             128           Yok   IPS Ekran       Var  \n",
       "1         11.5  Yok             128           Yok   IPS Ekran       Var  \n",
       "2         12.4  Yok              64           Yok         TFT       Var  \n",
       "3         10.4  Yok             128           Yok   IPS Ekran       Var  \n",
       "4         10.4  Yok              64           Yok         TFT       Var  "
      ]
     },
     "execution_count": 2,
     "metadata": {},
     "output_type": "execute_result"
    }
   ],
   "source": [
    "tablet = pd.read_excel('hepsibu.xlsx')\n",
    "tablet.head()"
   ]
  },
  {
   "cell_type": "code",
   "execution_count": 3,
   "id": "907f5d75",
   "metadata": {},
   "outputs": [],
   "source": [
    "tablet = tablet.drop(['isletimsistemi','islemcimarka','Bluetooth','HDMI','MobilBağlantı'], axis=1)"
   ]
  },
  {
   "cell_type": "code",
   "execution_count": 4,
   "id": "2e1d6aee",
   "metadata": {},
   "outputs": [
    {
     "data": {
      "text/html": [
       "<div>\n",
       "<style scoped>\n",
       "    .dataframe tbody tr th:only-of-type {\n",
       "        vertical-align: middle;\n",
       "    }\n",
       "\n",
       "    .dataframe tbody tr th {\n",
       "        vertical-align: top;\n",
       "    }\n",
       "\n",
       "    .dataframe thead th {\n",
       "        text-align: right;\n",
       "    }\n",
       "</style>\n",
       "<table border=\"1\" class=\"dataframe\">\n",
       "  <thead>\n",
       "    <tr style=\"text-align: right;\">\n",
       "      <th></th>\n",
       "      <th>marka</th>\n",
       "      <th>fiyat</th>\n",
       "      <th>pil</th>\n",
       "      <th>ekrancozunurluk</th>\n",
       "      <th>kalem</th>\n",
       "      <th>ram</th>\n",
       "      <th>isletimsistemitabani</th>\n",
       "      <th>islemcicekirdek</th>\n",
       "      <th>ekranboyutu</th>\n",
       "      <th>diskkapasitesi</th>\n",
       "      <th>EkranModeli</th>\n",
       "    </tr>\n",
       "  </thead>\n",
       "  <tbody>\n",
       "    <tr>\n",
       "      <th>0</th>\n",
       "      <td>Huawei</td>\n",
       "      <td>8999.0</td>\n",
       "      <td>7700.0</td>\n",
       "      <td>2200 x 1440</td>\n",
       "      <td>Evet</td>\n",
       "      <td>8</td>\n",
       "      <td>HarmonyOS</td>\n",
       "      <td>Sekiz Çekirdekli İşlemci</td>\n",
       "      <td>11.5</td>\n",
       "      <td>128</td>\n",
       "      <td>IPS Ekran</td>\n",
       "    </tr>\n",
       "    <tr>\n",
       "      <th>1</th>\n",
       "      <td>HONOR</td>\n",
       "      <td>6499.0</td>\n",
       "      <td>7250.0</td>\n",
       "      <td>2000 x 1200</td>\n",
       "      <td>Evet</td>\n",
       "      <td>4</td>\n",
       "      <td>Android</td>\n",
       "      <td>Sekiz Çekirdekli İşlemci</td>\n",
       "      <td>11.5</td>\n",
       "      <td>128</td>\n",
       "      <td>IPS Ekran</td>\n",
       "    </tr>\n",
       "    <tr>\n",
       "      <th>2</th>\n",
       "      <td>Samsung</td>\n",
       "      <td>10849.0</td>\n",
       "      <td>10090.0</td>\n",
       "      <td>2560 x 1600</td>\n",
       "      <td>Evet</td>\n",
       "      <td>4</td>\n",
       "      <td>Android</td>\n",
       "      <td>Sekiz Çekirdekli İşlemci</td>\n",
       "      <td>12.4</td>\n",
       "      <td>64</td>\n",
       "      <td>TFT</td>\n",
       "    </tr>\n",
       "    <tr>\n",
       "      <th>3</th>\n",
       "      <td>Huawei</td>\n",
       "      <td>7389.0</td>\n",
       "      <td>7250.0</td>\n",
       "      <td>2000 x 1200</td>\n",
       "      <td>Evet</td>\n",
       "      <td>4</td>\n",
       "      <td>HarmonyOS 2</td>\n",
       "      <td>Yok</td>\n",
       "      <td>10.4</td>\n",
       "      <td>128</td>\n",
       "      <td>IPS Ekran</td>\n",
       "    </tr>\n",
       "    <tr>\n",
       "      <th>4</th>\n",
       "      <td>Samsung</td>\n",
       "      <td>9099.0</td>\n",
       "      <td>7040.0</td>\n",
       "      <td>1920 x 1200</td>\n",
       "      <td>Evet</td>\n",
       "      <td>4</td>\n",
       "      <td>Android</td>\n",
       "      <td>Sekiz Çekirdekli İşlemci</td>\n",
       "      <td>10.4</td>\n",
       "      <td>64</td>\n",
       "      <td>TFT</td>\n",
       "    </tr>\n",
       "  </tbody>\n",
       "</table>\n",
       "</div>"
      ],
      "text/plain": [
       "     marka    fiyat     pil  ekrancozunurluk kalem ram isletimsistemitabani  \\\n",
       "0   Huawei   8999.0   7700.0     2200 x 1440  Evet   8            HarmonyOS   \n",
       "1    HONOR   6499.0   7250.0     2000 x 1200  Evet   4              Android   \n",
       "2  Samsung  10849.0  10090.0     2560 x 1600  Evet   4              Android   \n",
       "3   Huawei   7389.0   7250.0     2000 x 1200  Evet   4          HarmonyOS 2   \n",
       "4  Samsung   9099.0   7040.0     1920 x 1200  Evet   4              Android   \n",
       "\n",
       "            islemcicekirdek  ekranboyutu  diskkapasitesi EkranModeli  \n",
       "0  Sekiz Çekirdekli İşlemci         11.5             128   IPS Ekran  \n",
       "1  Sekiz Çekirdekli İşlemci         11.5             128   IPS Ekran  \n",
       "2  Sekiz Çekirdekli İşlemci         12.4              64         TFT  \n",
       "3                       Yok         10.4             128   IPS Ekran  \n",
       "4  Sekiz Çekirdekli İşlemci         10.4              64         TFT  "
      ]
     },
     "execution_count": 4,
     "metadata": {},
     "output_type": "execute_result"
    }
   ],
   "source": [
    "tablet.head()"
   ]
  },
  {
   "cell_type": "code",
   "execution_count": 5,
   "id": "35af8154",
   "metadata": {},
   "outputs": [
    {
     "data": {
      "text/plain": [
       "marka                    0\n",
       "fiyat                    0\n",
       "pil                     33\n",
       "ekrancozunurluk          0\n",
       "kalem                   31\n",
       "ram                      0\n",
       "isletimsistemitabani     0\n",
       "islemcicekirdek          1\n",
       "ekranboyutu              0\n",
       "diskkapasitesi           0\n",
       "EkranModeli              1\n",
       "dtype: int64"
      ]
     },
     "execution_count": 5,
     "metadata": {},
     "output_type": "execute_result"
    }
   ],
   "source": [
    "tablet.isna().sum()"
   ]
  },
  {
   "cell_type": "code",
   "execution_count": 6,
   "id": "fca208e5",
   "metadata": {},
   "outputs": [],
   "source": [
    "tablet.columns = tablet.columns.str.strip() \n",
    "tablet = tablet.dropna(subset=['pil'])\n",
    "tablet = tablet.dropna(subset=['kalem'])\n",
    "tablet = tablet.dropna(subset=['islemcicekirdek'])\n",
    "tablet = tablet.dropna(subset=['EkranModeli'])"
   ]
  },
  {
   "cell_type": "code",
   "execution_count": 7,
   "id": "e4ff19ea",
   "metadata": {},
   "outputs": [
    {
     "data": {
      "text/plain": [
       "marka                   0\n",
       "fiyat                   0\n",
       "pil                     0\n",
       "ekrancozunurluk         0\n",
       "kalem                   0\n",
       "ram                     0\n",
       "isletimsistemitabani    0\n",
       "islemcicekirdek         0\n",
       "ekranboyutu             0\n",
       "diskkapasitesi          0\n",
       "EkranModeli             0\n",
       "dtype: int64"
      ]
     },
     "execution_count": 7,
     "metadata": {},
     "output_type": "execute_result"
    }
   ],
   "source": [
    "tablet.isna().sum()"
   ]
  },
  {
   "cell_type": "code",
   "execution_count": 8,
   "id": "001d0c6f",
   "metadata": {},
   "outputs": [
    {
     "data": {
      "text/plain": [
       "(1133, 11)"
      ]
     },
     "execution_count": 8,
     "metadata": {},
     "output_type": "execute_result"
    }
   ],
   "source": [
    "tablet.shape"
   ]
  },
  {
   "cell_type": "code",
   "execution_count": 9,
   "id": "e58f3428",
   "metadata": {},
   "outputs": [
    {
     "data": {
      "text/plain": [
       "4      414\n",
       "8      255\n",
       "3      167\n",
       "2      120\n",
       "Yok     75\n",
       "64      33\n",
       "1       23\n",
       "6       22\n",
       "16      16\n",
       "12       3\n",
       "1.5      3\n",
       "256      2\n",
       "Name: ram, dtype: int64"
      ]
     },
     "execution_count": 9,
     "metadata": {},
     "output_type": "execute_result"
    }
   ],
   "source": [
    "tablet['ram'].value_counts()"
   ]
  },
  {
   "cell_type": "code",
   "execution_count": 10,
   "id": "236254a5",
   "metadata": {},
   "outputs": [],
   "source": [
    "tablet['ram'] = tablet['ram'].replace('Yok', 0)"
   ]
  },
  {
   "cell_type": "code",
   "execution_count": 11,
   "id": "94d3c881",
   "metadata": {},
   "outputs": [],
   "source": [
    "tablet[\"ram\"] = tablet.ram.astype(float) \n",
    "tablet[\"ekranboyutu\"] = tablet.ekranboyutu.astype(float) \n",
    "tablet[\"diskkapasitesi\"] = tablet.diskkapasitesi.astype(float)"
   ]
  },
  {
   "cell_type": "code",
   "execution_count": 12,
   "id": "6fc4aaaf",
   "metadata": {},
   "outputs": [
    {
     "name": "stdout",
     "output_type": "stream",
     "text": [
      "<class 'pandas.core.frame.DataFrame'>\n",
      "Int64Index: 1133 entries, 0 to 1170\n",
      "Data columns (total 11 columns):\n",
      " #   Column                Non-Null Count  Dtype  \n",
      "---  ------                --------------  -----  \n",
      " 0   marka                 1133 non-null   object \n",
      " 1   fiyat                 1133 non-null   float64\n",
      " 2   pil                   1133 non-null   float64\n",
      " 3   ekrancozunurluk       1133 non-null   object \n",
      " 4   kalem                 1133 non-null   object \n",
      " 5   ram                   1133 non-null   float64\n",
      " 6   isletimsistemitabani  1133 non-null   object \n",
      " 7   islemcicekirdek       1133 non-null   object \n",
      " 8   ekranboyutu           1133 non-null   float64\n",
      " 9   diskkapasitesi        1133 non-null   float64\n",
      " 10  EkranModeli           1133 non-null   object \n",
      "dtypes: float64(5), object(6)\n",
      "memory usage: 106.2+ KB\n"
     ]
    }
   ],
   "source": [
    "tablet.info()"
   ]
  },
  {
   "cell_type": "code",
   "execution_count": 13,
   "id": "d2298ebf",
   "metadata": {
    "scrolled": true
   },
   "outputs": [
    {
     "name": "stdout",
     "output_type": "stream",
     "text": [
      "Evet     720\n",
      "Hayır    413\n",
      "Name: kalem, dtype: int64\n",
      "0    720\n",
      "1    413\n",
      "Name: kalem, dtype: int64\n"
     ]
    }
   ],
   "source": [
    "from sklearn.preprocessing import LabelEncoder  \n",
    "labelEncoder = LabelEncoder()\n",
    "print(tablet['kalem'].value_counts())\n",
    "tablet['kalem'] = labelEncoder.fit_transform(tablet['kalem'])\n",
    "print(tablet['kalem'].value_counts())"
   ]
  },
  {
   "cell_type": "code",
   "execution_count": 14,
   "id": "3c564a89",
   "metadata": {},
   "outputs": [
    {
     "name": "stdout",
     "output_type": "stream",
     "text": [
      "Android       740\n",
      "iOS           255\n",
      "HarmonyOS      98\n",
      "Windows        34\n",
      "Snapdragon      5\n",
      "EMUI            1\n",
      "Name: isletimsistemitabani, dtype: int64\n",
      "0    740\n",
      "5    255\n",
      "2     98\n",
      "4     34\n",
      "3      5\n",
      "1      1\n",
      "Name: isletimsistemitabani, dtype: int64\n"
     ]
    }
   ],
   "source": [
    "from sklearn.preprocessing import LabelEncoder  \n",
    "labelEncoder = LabelEncoder()\n",
    "tablet['isletimsistemitabani'] = tablet['isletimsistemitabani'].replace(['HarmonyOS 2'],'HarmonyOS')\n",
    "print(tablet['isletimsistemitabani'].value_counts())\n",
    "tablet['isletimsistemitabani'] = labelEncoder.fit_transform(tablet['isletimsistemitabani'])\n",
    "print(tablet['isletimsistemitabani'].value_counts())"
   ]
  },
  {
   "cell_type": "code",
   "execution_count": 15,
   "id": "95026375",
   "metadata": {},
   "outputs": [
    {
     "data": {
      "text/plain": [
       "Sekiz Çekirdekli İşlemci    660\n",
       "Dört Çekirdekli İşlemci     243\n",
       "Yok                         123\n",
       "Altı Çekirdekli İşlemci      60\n",
       "Çift Çekirdekli İşlemci      45\n",
       "Tek Çekirdekli İşlemci        2\n",
       "Name: islemcicekirdek, dtype: int64"
      ]
     },
     "execution_count": 15,
     "metadata": {},
     "output_type": "execute_result"
    }
   ],
   "source": [
    "tablet['islemcicekirdek'].value_counts()"
   ]
  },
  {
   "cell_type": "code",
   "execution_count": 16,
   "id": "89fbffea",
   "metadata": {},
   "outputs": [],
   "source": [
    "tablet['islemcicekirdek'] = tablet['islemcicekirdek'].replace('Sekiz Çekirdekli İşlemci', 6)\n",
    "tablet['islemcicekirdek'] = tablet['islemcicekirdek'].replace('Altı Çekirdekli İşlemci', 5)\n",
    "tablet['islemcicekirdek'] = tablet['islemcicekirdek'].replace('Dört Çekirdekli İşlemci', 4)\n",
    "tablet['islemcicekirdek'] = tablet['islemcicekirdek'].replace('Çift Çekirdekli İşlemci', 3)\n",
    "tablet['islemcicekirdek'] = tablet['islemcicekirdek'].replace('Tek Çekirdekli İşlemci', 2)\n",
    "tablet['islemcicekirdek'] = tablet['islemcicekirdek'].replace('Yok', 1)"
   ]
  },
  {
   "cell_type": "code",
   "execution_count": 17,
   "id": "0078a82f",
   "metadata": {},
   "outputs": [
    {
     "data": {
      "text/plain": [
       "6    660\n",
       "4    243\n",
       "1    123\n",
       "5     60\n",
       "3     45\n",
       "2      2\n",
       "Name: islemcicekirdek, dtype: int64"
      ]
     },
     "execution_count": 17,
     "metadata": {},
     "output_type": "execute_result"
    }
   ],
   "source": [
    "tablet['islemcicekirdek'].value_counts()"
   ]
  },
  {
   "cell_type": "code",
   "execution_count": 18,
   "id": "53b15e51",
   "metadata": {},
   "outputs": [
    {
     "data": {
      "text/plain": [
       "IPS Ekran                  579\n",
       "TFT                        155\n",
       "LCD                         92\n",
       "HD IPS                      64\n",
       "HD Ekran                    61\n",
       "Liquid Retina Ekran         59\n",
       "WQXGA Ekran                 44\n",
       "Kapasitif Ekran             41\n",
       "AMOLED                      12\n",
       "TDDI                         8\n",
       "WUXGA                        7\n",
       "Liquid Retina XDR Ekran      4\n",
       "Retina Ekran                 3\n",
       "OLED Ekran                   3\n",
       "E-Mürekkep Ekran             1\n",
       "Name: EkranModeli, dtype: int64"
      ]
     },
     "execution_count": 18,
     "metadata": {},
     "output_type": "execute_result"
    }
   ],
   "source": [
    "tablet['EkranModeli'].value_counts()"
   ]
  },
  {
   "cell_type": "code",
   "execution_count": 19,
   "id": "424d89db",
   "metadata": {},
   "outputs": [
    {
     "name": "stdout",
     "output_type": "stream",
     "text": [
      "IPS Ekran                  579\n",
      "TFT                        155\n",
      "LCD                         92\n",
      "HD IPS                      64\n",
      "HD Ekran                    61\n",
      "Liquid Retina Ekran         59\n",
      "WQXGA Ekran                 44\n",
      "Kapasitif Ekran             41\n",
      "AMOLED                      12\n",
      "TDDI                         8\n",
      "WUXGA                        7\n",
      "Liquid Retina XDR Ekran      4\n",
      "Retina Ekran                 3\n",
      "OLED Ekran                   3\n",
      "E-Mürekkep Ekran             1\n",
      "Name: EkranModeli, dtype: int64\n",
      "4     579\n",
      "12    155\n",
      "6      92\n",
      "3      64\n",
      "2      61\n",
      "7      59\n",
      "13     44\n",
      "5      41\n",
      "0      12\n",
      "11      8\n",
      "14      7\n",
      "8       4\n",
      "10      3\n",
      "9       3\n",
      "1       1\n",
      "Name: EkranModeli, dtype: int64\n"
     ]
    }
   ],
   "source": [
    "from sklearn.preprocessing import LabelEncoder  \n",
    "labelEncoder = LabelEncoder()\n",
    "print(tablet['EkranModeli'].value_counts())\n",
    "tablet['EkranModeli'] = labelEncoder.fit_transform(tablet['EkranModeli'])\n",
    "print(tablet['EkranModeli'].value_counts())"
   ]
  },
  {
   "cell_type": "code",
   "execution_count": 20,
   "id": "1ed4fb21",
   "metadata": {},
   "outputs": [
    {
     "data": {
      "text/plain": [
       "Apple                  254\n",
       "Lenovo                 235\n",
       "Samsung                211\n",
       "Huawei                 138\n",
       "HONOR                   97\n",
       "Hometech                27\n",
       "Xiaomi                  19\n",
       "TCL                     12\n",
       "FosilTech                9\n",
       "Alcatel                  8\n",
       "Reeder                   8\n",
       "Concord                  7\n",
       "Casper                   6\n",
       "Philips                  6\n",
       "Vorcom                   6\n",
       "DTS Teknoloji            6\n",
       "Techstor                 5\n",
       "Wenn                     4\n",
       "Glavey                   4\n",
       "Nex ook                  4\n",
       "Chuwi                    4\n",
       "Afila                    4\n",
       "Technopc                 4\n",
       "Amazon                   4\n",
       "General Mobile           3\n",
       "Ofispc                   3\n",
       "One Blue                 3\n",
       "Wmate                    2\n",
       "Getac                    2\n",
       "Elephone                 2\n",
       "Welio                    2\n",
       "Redway                   2\n",
       "Acer                     2\n",
       "Preo                     2\n",
       "Quadro                   2\n",
       "Fusion                   2\n",
       "Newland                  2\n",
       "Everest                  2\n",
       "Osmart                   2\n",
       "Motion                   1\n",
       "101                      1\n",
       "Zebra                    1\n",
       "Smartab                  1\n",
       "Redline                  1\n",
       "Fosil Avm                1\n",
       "Sende Trendol            1\n",
       "Sunny                    1\n",
       "Teknomax                 1\n",
       "Nibirun                  1\n",
       "Uğur Böceği Ticaret      1\n",
       "Denver                   1\n",
       "Piranha                  1\n",
       "Sprange                  1\n",
       "NPO                      1\n",
       "Remarkable               1\n",
       "Gtx                      1\n",
       "New Yorker               1\n",
       "Name: marka, dtype: int64"
      ]
     },
     "execution_count": 20,
     "metadata": {},
     "output_type": "execute_result"
    }
   ],
   "source": [
    "tablet['marka'].value_counts()"
   ]
  },
  {
   "cell_type": "code",
   "execution_count": 21,
   "id": "65cf8af8",
   "metadata": {},
   "outputs": [],
   "source": [
    "frekans = tablet['marka'].value_counts()\n",
    "yaygin_marka = frekans[frekans > 11].index\n",
    "tablet['marka'] = tablet['marka'].apply(lambda x: x if x in yaygin_marka else 'Diger')"
   ]
  },
  {
   "cell_type": "code",
   "execution_count": 22,
   "id": "a22330ff",
   "metadata": {},
   "outputs": [
    {
     "data": {
      "text/plain": [
       "Apple       254\n",
       "Lenovo      235\n",
       "Samsung     211\n",
       "Diger       140\n",
       "Huawei      138\n",
       "HONOR        97\n",
       "Hometech     27\n",
       "Xiaomi       19\n",
       "TCL          12\n",
       "Name: marka, dtype: int64"
      ]
     },
     "execution_count": 22,
     "metadata": {},
     "output_type": "execute_result"
    }
   ],
   "source": [
    "tablet['marka'].value_counts()"
   ]
  },
  {
   "cell_type": "code",
   "execution_count": 23,
   "id": "68fef01d",
   "metadata": {},
   "outputs": [
    {
     "name": "stdout",
     "output_type": "stream",
     "text": [
      "Apple       254\n",
      "Lenovo      235\n",
      "Samsung     211\n",
      "Diger       140\n",
      "Huawei      138\n",
      "HONOR        97\n",
      "Hometech     27\n",
      "Xiaomi       19\n",
      "TCL          12\n",
      "Name: marka, dtype: int64\n",
      "0    254\n",
      "5    235\n",
      "6    211\n",
      "1    140\n",
      "4    138\n",
      "2     97\n",
      "3     27\n",
      "8     19\n",
      "7     12\n",
      "Name: marka, dtype: int64\n"
     ]
    }
   ],
   "source": [
    "from sklearn.preprocessing import LabelEncoder  \n",
    "labelEncoder = LabelEncoder()\n",
    "print(tablet['marka'].value_counts())\n",
    "tablet['marka'] = labelEncoder.fit_transform(tablet['marka'])\n",
    "print(tablet['marka'].value_counts())"
   ]
  },
  {
   "cell_type": "code",
   "execution_count": 24,
   "id": "ccbd557b",
   "metadata": {},
   "outputs": [
    {
     "data": {
      "text/plain": [
       "2000 x 1200    235\n",
       "1920 x 1200    214\n",
       "1280 x 800     183\n",
       "2360 x 1640    149\n",
       "1340 x 800      72\n",
       "2160 x 1620     64\n",
       "2560 x 1600     50\n",
       "2200 x 1440     32\n",
       "1024 x 600      20\n",
       "2388 x 1668     18\n",
       "1920 x 1080     16\n",
       "1200 x 800      14\n",
       "2800 x 1752     12\n",
       "2160 x 1440      9\n",
       "2224 X 1668      8\n",
       "2732 x 2048      7\n",
       "1024 x 480       6\n",
       "1920 x 1280      5\n",
       "800 x 1280       4\n",
       "1024 x 768       3\n",
       "2374 x 1640      3\n",
       "1280 x 720       3\n",
       "2960 x 1848      2\n",
       "2048 x 1536      2\n",
       "1872 x 1404      1\n",
       "2944 x 1840      1\n",
       "Name: ekrancozunurluk, dtype: int64"
      ]
     },
     "execution_count": 24,
     "metadata": {},
     "output_type": "execute_result"
    }
   ],
   "source": [
    "tablet['ekrancozunurluk'].value_counts()"
   ]
  },
  {
   "cell_type": "code",
   "execution_count": 25,
   "id": "29ab8319",
   "metadata": {},
   "outputs": [],
   "source": [
    "frekans = tablet['ekrancozunurluk'].value_counts()\n",
    "yaygin_cozunurluk = frekans[frekans > 19].index\n",
    "tablet['ekrancozunurluk'] = tablet['ekrancozunurluk'].apply(lambda x: x if x in yaygin_cozunurluk else 'Diger')"
   ]
  },
  {
   "cell_type": "code",
   "execution_count": 26,
   "id": "cd686d0c",
   "metadata": {},
   "outputs": [
    {
     "data": {
      "text/plain": [
       "2000 x 1200    235\n",
       "1920 x 1200    214\n",
       "1280 x 800     183\n",
       "2360 x 1640    149\n",
       "Diger          114\n",
       "1340 x 800      72\n",
       "2160 x 1620     64\n",
       "2560 x 1600     50\n",
       "2200 x 1440     32\n",
       "1024 x 600      20\n",
       "Name: ekrancozunurluk, dtype: int64"
      ]
     },
     "execution_count": 26,
     "metadata": {},
     "output_type": "execute_result"
    }
   ],
   "source": [
    "tablet['ekrancozunurluk'].value_counts()"
   ]
  },
  {
   "cell_type": "code",
   "execution_count": 27,
   "id": "bd27d463",
   "metadata": {},
   "outputs": [
    {
     "name": "stdout",
     "output_type": "stream",
     "text": [
      "2000 x 1200    235\n",
      "1920 x 1200    214\n",
      "1280 x 800     183\n",
      "2360 x 1640    149\n",
      "Diger          114\n",
      "1340 x 800      72\n",
      "2160 x 1620     64\n",
      "2560 x 1600     50\n",
      "2200 x 1440     32\n",
      "1024 x 600      20\n",
      "Name: ekrancozunurluk, dtype: int64\n",
      "4    235\n",
      "3    214\n",
      "1    183\n",
      "7    149\n",
      "9    114\n",
      "2     72\n",
      "5     64\n",
      "8     50\n",
      "6     32\n",
      "0     20\n",
      "Name: ekrancozunurluk, dtype: int64\n"
     ]
    }
   ],
   "source": [
    "from sklearn.preprocessing import LabelEncoder  \n",
    "labelEncoder = LabelEncoder()\n",
    "print(tablet['ekrancozunurluk'].value_counts())\n",
    "tablet['ekrancozunurluk'] = labelEncoder.fit_transform(tablet['ekrancozunurluk'])\n",
    "print(tablet['ekrancozunurluk'].value_counts())"
   ]
  },
  {
   "cell_type": "code",
   "execution_count": 28,
   "id": "60200b8f",
   "metadata": {},
   "outputs": [
    {
     "name": "stdout",
     "output_type": "stream",
     "text": [
      "<class 'pandas.core.frame.DataFrame'>\n",
      "Int64Index: 1133 entries, 0 to 1170\n",
      "Data columns (total 11 columns):\n",
      " #   Column                Non-Null Count  Dtype  \n",
      "---  ------                --------------  -----  \n",
      " 0   marka                 1133 non-null   int32  \n",
      " 1   fiyat                 1133 non-null   float64\n",
      " 2   pil                   1133 non-null   float64\n",
      " 3   ekrancozunurluk       1133 non-null   int32  \n",
      " 4   kalem                 1133 non-null   int32  \n",
      " 5   ram                   1133 non-null   float64\n",
      " 6   isletimsistemitabani  1133 non-null   int32  \n",
      " 7   islemcicekirdek       1133 non-null   int64  \n",
      " 8   ekranboyutu           1133 non-null   float64\n",
      " 9   diskkapasitesi        1133 non-null   float64\n",
      " 10  EkranModeli           1133 non-null   int32  \n",
      "dtypes: float64(5), int32(5), int64(1)\n",
      "memory usage: 84.1 KB\n"
     ]
    }
   ],
   "source": [
    "tablet.info()"
   ]
  },
  {
   "cell_type": "code",
   "execution_count": 29,
   "id": "46e3a80c",
   "metadata": {},
   "outputs": [
    {
     "data": {
      "text/plain": [
       "fiyat                   1.000000\n",
       "isletimsistemitabani    0.631630\n",
       "ekrancozunurluk         0.543610\n",
       "ekranboyutu             0.350332\n",
       "diskkapasitesi          0.263273\n",
       "islemcicekirdek         0.181479\n",
       "ram                     0.125630\n",
       "pil                     0.003146\n",
       "EkranModeli            -0.039562\n",
       "kalem                  -0.406915\n",
       "marka                  -0.454528\n",
       "Name: fiyat, dtype: float64"
      ]
     },
     "execution_count": 29,
     "metadata": {},
     "output_type": "execute_result"
    }
   ],
   "source": [
    "corr_matrix = tablet.corr()\n",
    "corr_matrix['fiyat'].sort_values(ascending=False)"
   ]
  },
  {
   "cell_type": "code",
   "execution_count": 30,
   "id": "5862de3d",
   "metadata": {},
   "outputs": [
    {
     "data": {
      "text/html": [
       "<div>\n",
       "<style scoped>\n",
       "    .dataframe tbody tr th:only-of-type {\n",
       "        vertical-align: middle;\n",
       "    }\n",
       "\n",
       "    .dataframe tbody tr th {\n",
       "        vertical-align: top;\n",
       "    }\n",
       "\n",
       "    .dataframe thead th {\n",
       "        text-align: right;\n",
       "    }\n",
       "</style>\n",
       "<table border=\"1\" class=\"dataframe\">\n",
       "  <thead>\n",
       "    <tr style=\"text-align: right;\">\n",
       "      <th></th>\n",
       "      <th>marka</th>\n",
       "      <th>fiyat</th>\n",
       "      <th>pil</th>\n",
       "      <th>ekrancozunurluk</th>\n",
       "      <th>kalem</th>\n",
       "      <th>ram</th>\n",
       "      <th>isletimsistemitabani</th>\n",
       "      <th>islemcicekirdek</th>\n",
       "      <th>ekranboyutu</th>\n",
       "      <th>diskkapasitesi</th>\n",
       "      <th>EkranModeli</th>\n",
       "    </tr>\n",
       "  </thead>\n",
       "  <tbody>\n",
       "    <tr>\n",
       "      <th>count</th>\n",
       "      <td>1133.00000</td>\n",
       "      <td>1133.000000</td>\n",
       "      <td>1133.000000</td>\n",
       "      <td>1133.000000</td>\n",
       "      <td>1133.000000</td>\n",
       "      <td>1133.000000</td>\n",
       "      <td>1133.000000</td>\n",
       "      <td>1133.000000</td>\n",
       "      <td>1133.000000</td>\n",
       "      <td>1133.000000</td>\n",
       "      <td>1133.000000</td>\n",
       "    </tr>\n",
       "    <tr>\n",
       "      <th>mean</th>\n",
       "      <td>3.21624</td>\n",
       "      <td>10998.708570</td>\n",
       "      <td>5937.162401</td>\n",
       "      <td>4.315975</td>\n",
       "      <td>0.364519</td>\n",
       "      <td>6.630627</td>\n",
       "      <td>1.432480</td>\n",
       "      <td>4.849073</td>\n",
       "      <td>10.304678</td>\n",
       "      <td>94.575463</td>\n",
       "      <td>5.744042</td>\n",
       "    </tr>\n",
       "    <tr>\n",
       "      <th>std</th>\n",
       "      <td>2.40252</td>\n",
       "      <td>11232.698383</td>\n",
       "      <td>2627.193963</td>\n",
       "      <td>2.580657</td>\n",
       "      <td>0.481508</td>\n",
       "      <td>14.762674</td>\n",
       "      <td>2.108389</td>\n",
       "      <td>1.639613</td>\n",
       "      <td>1.188217</td>\n",
       "      <td>78.430591</td>\n",
       "      <td>3.366034</td>\n",
       "    </tr>\n",
       "    <tr>\n",
       "      <th>min</th>\n",
       "      <td>0.00000</td>\n",
       "      <td>144.900000</td>\n",
       "      <td>270.000000</td>\n",
       "      <td>0.000000</td>\n",
       "      <td>0.000000</td>\n",
       "      <td>0.000000</td>\n",
       "      <td>0.000000</td>\n",
       "      <td>1.000000</td>\n",
       "      <td>7.000000</td>\n",
       "      <td>1.000000</td>\n",
       "      <td>0.000000</td>\n",
       "    </tr>\n",
       "    <tr>\n",
       "      <th>25%</th>\n",
       "      <td>1.00000</td>\n",
       "      <td>4219.000000</td>\n",
       "      <td>5000.000000</td>\n",
       "      <td>3.000000</td>\n",
       "      <td>0.000000</td>\n",
       "      <td>3.000000</td>\n",
       "      <td>0.000000</td>\n",
       "      <td>4.000000</td>\n",
       "      <td>10.100000</td>\n",
       "      <td>32.000000</td>\n",
       "      <td>4.000000</td>\n",
       "    </tr>\n",
       "    <tr>\n",
       "      <th>50%</th>\n",
       "      <td>4.00000</td>\n",
       "      <td>7575.000000</td>\n",
       "      <td>6000.000000</td>\n",
       "      <td>4.000000</td>\n",
       "      <td>0.000000</td>\n",
       "      <td>4.000000</td>\n",
       "      <td>0.000000</td>\n",
       "      <td>6.000000</td>\n",
       "      <td>10.400000</td>\n",
       "      <td>64.000000</td>\n",
       "      <td>4.000000</td>\n",
       "    </tr>\n",
       "    <tr>\n",
       "      <th>75%</th>\n",
       "      <td>5.00000</td>\n",
       "      <td>12899.000000</td>\n",
       "      <td>7500.000000</td>\n",
       "      <td>7.000000</td>\n",
       "      <td>1.000000</td>\n",
       "      <td>8.000000</td>\n",
       "      <td>4.000000</td>\n",
       "      <td>6.000000</td>\n",
       "      <td>10.900000</td>\n",
       "      <td>128.000000</td>\n",
       "      <td>6.000000</td>\n",
       "    </tr>\n",
       "    <tr>\n",
       "      <th>max</th>\n",
       "      <td>8.00000</td>\n",
       "      <td>99000.000000</td>\n",
       "      <td>11200.000000</td>\n",
       "      <td>9.000000</td>\n",
       "      <td>1.000000</td>\n",
       "      <td>256.000000</td>\n",
       "      <td>5.000000</td>\n",
       "      <td>6.000000</td>\n",
       "      <td>14.600000</td>\n",
       "      <td>512.000000</td>\n",
       "      <td>14.000000</td>\n",
       "    </tr>\n",
       "  </tbody>\n",
       "</table>\n",
       "</div>"
      ],
      "text/plain": [
       "            marka         fiyat           pil  ekrancozunurluk        kalem  \\\n",
       "count  1133.00000   1133.000000   1133.000000      1133.000000  1133.000000   \n",
       "mean      3.21624  10998.708570   5937.162401         4.315975     0.364519   \n",
       "std       2.40252  11232.698383   2627.193963         2.580657     0.481508   \n",
       "min       0.00000    144.900000    270.000000         0.000000     0.000000   \n",
       "25%       1.00000   4219.000000   5000.000000         3.000000     0.000000   \n",
       "50%       4.00000   7575.000000   6000.000000         4.000000     0.000000   \n",
       "75%       5.00000  12899.000000   7500.000000         7.000000     1.000000   \n",
       "max       8.00000  99000.000000  11200.000000         9.000000     1.000000   \n",
       "\n",
       "               ram  isletimsistemitabani  islemcicekirdek  ekranboyutu  \\\n",
       "count  1133.000000           1133.000000      1133.000000  1133.000000   \n",
       "mean      6.630627              1.432480         4.849073    10.304678   \n",
       "std      14.762674              2.108389         1.639613     1.188217   \n",
       "min       0.000000              0.000000         1.000000     7.000000   \n",
       "25%       3.000000              0.000000         4.000000    10.100000   \n",
       "50%       4.000000              0.000000         6.000000    10.400000   \n",
       "75%       8.000000              4.000000         6.000000    10.900000   \n",
       "max     256.000000              5.000000         6.000000    14.600000   \n",
       "\n",
       "       diskkapasitesi  EkranModeli  \n",
       "count     1133.000000  1133.000000  \n",
       "mean        94.575463     5.744042  \n",
       "std         78.430591     3.366034  \n",
       "min          1.000000     0.000000  \n",
       "25%         32.000000     4.000000  \n",
       "50%         64.000000     4.000000  \n",
       "75%        128.000000     6.000000  \n",
       "max        512.000000    14.000000  "
      ]
     },
     "execution_count": 30,
     "metadata": {},
     "output_type": "execute_result"
    }
   ],
   "source": [
    "tablet.describe()"
   ]
  },
  {
   "cell_type": "code",
   "execution_count": 31,
   "id": "bb68c759",
   "metadata": {},
   "outputs": [
    {
     "data": {
      "text/html": [
       "<div>\n",
       "<style scoped>\n",
       "    .dataframe tbody tr th:only-of-type {\n",
       "        vertical-align: middle;\n",
       "    }\n",
       "\n",
       "    .dataframe tbody tr th {\n",
       "        vertical-align: top;\n",
       "    }\n",
       "\n",
       "    .dataframe thead th {\n",
       "        text-align: right;\n",
       "    }\n",
       "</style>\n",
       "<table border=\"1\" class=\"dataframe\">\n",
       "  <thead>\n",
       "    <tr style=\"text-align: right;\">\n",
       "      <th></th>\n",
       "      <th>marka</th>\n",
       "      <th>fiyat</th>\n",
       "      <th>pil</th>\n",
       "      <th>ekrancozunurluk</th>\n",
       "      <th>kalem</th>\n",
       "      <th>ram</th>\n",
       "      <th>isletimsistemitabani</th>\n",
       "      <th>islemcicekirdek</th>\n",
       "      <th>ekranboyutu</th>\n",
       "      <th>diskkapasitesi</th>\n",
       "      <th>EkranModeli</th>\n",
       "    </tr>\n",
       "  </thead>\n",
       "  <tbody>\n",
       "    <tr>\n",
       "      <th>0</th>\n",
       "      <td>4</td>\n",
       "      <td>8999.0</td>\n",
       "      <td>7700.0</td>\n",
       "      <td>6</td>\n",
       "      <td>0</td>\n",
       "      <td>8.0</td>\n",
       "      <td>2</td>\n",
       "      <td>6</td>\n",
       "      <td>11.5</td>\n",
       "      <td>128.0</td>\n",
       "      <td>4</td>\n",
       "    </tr>\n",
       "    <tr>\n",
       "      <th>1</th>\n",
       "      <td>2</td>\n",
       "      <td>6499.0</td>\n",
       "      <td>7250.0</td>\n",
       "      <td>4</td>\n",
       "      <td>0</td>\n",
       "      <td>4.0</td>\n",
       "      <td>0</td>\n",
       "      <td>6</td>\n",
       "      <td>11.5</td>\n",
       "      <td>128.0</td>\n",
       "      <td>4</td>\n",
       "    </tr>\n",
       "    <tr>\n",
       "      <th>2</th>\n",
       "      <td>6</td>\n",
       "      <td>10849.0</td>\n",
       "      <td>10090.0</td>\n",
       "      <td>8</td>\n",
       "      <td>0</td>\n",
       "      <td>4.0</td>\n",
       "      <td>0</td>\n",
       "      <td>6</td>\n",
       "      <td>12.4</td>\n",
       "      <td>64.0</td>\n",
       "      <td>12</td>\n",
       "    </tr>\n",
       "    <tr>\n",
       "      <th>3</th>\n",
       "      <td>4</td>\n",
       "      <td>7389.0</td>\n",
       "      <td>7250.0</td>\n",
       "      <td>4</td>\n",
       "      <td>0</td>\n",
       "      <td>4.0</td>\n",
       "      <td>2</td>\n",
       "      <td>1</td>\n",
       "      <td>10.4</td>\n",
       "      <td>128.0</td>\n",
       "      <td>4</td>\n",
       "    </tr>\n",
       "    <tr>\n",
       "      <th>4</th>\n",
       "      <td>6</td>\n",
       "      <td>9099.0</td>\n",
       "      <td>7040.0</td>\n",
       "      <td>3</td>\n",
       "      <td>0</td>\n",
       "      <td>4.0</td>\n",
       "      <td>0</td>\n",
       "      <td>6</td>\n",
       "      <td>10.4</td>\n",
       "      <td>64.0</td>\n",
       "      <td>12</td>\n",
       "    </tr>\n",
       "    <tr>\n",
       "      <th>...</th>\n",
       "      <td>...</td>\n",
       "      <td>...</td>\n",
       "      <td>...</td>\n",
       "      <td>...</td>\n",
       "      <td>...</td>\n",
       "      <td>...</td>\n",
       "      <td>...</td>\n",
       "      <td>...</td>\n",
       "      <td>...</td>\n",
       "      <td>...</td>\n",
       "      <td>...</td>\n",
       "    </tr>\n",
       "    <tr>\n",
       "      <th>1166</th>\n",
       "      <td>5</td>\n",
       "      <td>3099.0</td>\n",
       "      <td>5100.0</td>\n",
       "      <td>1</td>\n",
       "      <td>1</td>\n",
       "      <td>3.0</td>\n",
       "      <td>0</td>\n",
       "      <td>4</td>\n",
       "      <td>8.0</td>\n",
       "      <td>32.0</td>\n",
       "      <td>2</td>\n",
       "    </tr>\n",
       "    <tr>\n",
       "      <th>1167</th>\n",
       "      <td>5</td>\n",
       "      <td>4089.0</td>\n",
       "      <td>5100.0</td>\n",
       "      <td>2</td>\n",
       "      <td>1</td>\n",
       "      <td>4.0</td>\n",
       "      <td>0</td>\n",
       "      <td>6</td>\n",
       "      <td>9.0</td>\n",
       "      <td>64.0</td>\n",
       "      <td>4</td>\n",
       "    </tr>\n",
       "    <tr>\n",
       "      <th>1168</th>\n",
       "      <td>5</td>\n",
       "      <td>6299.0</td>\n",
       "      <td>7500.0</td>\n",
       "      <td>4</td>\n",
       "      <td>0</td>\n",
       "      <td>4.0</td>\n",
       "      <td>0</td>\n",
       "      <td>6</td>\n",
       "      <td>10.6</td>\n",
       "      <td>128.0</td>\n",
       "      <td>4</td>\n",
       "    </tr>\n",
       "    <tr>\n",
       "      <th>1169</th>\n",
       "      <td>6</td>\n",
       "      <td>3299.0</td>\n",
       "      <td>5100.0</td>\n",
       "      <td>1</td>\n",
       "      <td>0</td>\n",
       "      <td>3.0</td>\n",
       "      <td>0</td>\n",
       "      <td>3</td>\n",
       "      <td>8.7</td>\n",
       "      <td>32.0</td>\n",
       "      <td>12</td>\n",
       "    </tr>\n",
       "    <tr>\n",
       "      <th>1170</th>\n",
       "      <td>6</td>\n",
       "      <td>4780.0</td>\n",
       "      <td>7040.0</td>\n",
       "      <td>3</td>\n",
       "      <td>1</td>\n",
       "      <td>4.0</td>\n",
       "      <td>0</td>\n",
       "      <td>6</td>\n",
       "      <td>11.0</td>\n",
       "      <td>4.0</td>\n",
       "      <td>13</td>\n",
       "    </tr>\n",
       "  </tbody>\n",
       "</table>\n",
       "<p>1133 rows × 11 columns</p>\n",
       "</div>"
      ],
      "text/plain": [
       "      marka    fiyat      pil  ekrancozunurluk  kalem  ram  \\\n",
       "0         4   8999.0   7700.0                6      0  8.0   \n",
       "1         2   6499.0   7250.0                4      0  4.0   \n",
       "2         6  10849.0  10090.0                8      0  4.0   \n",
       "3         4   7389.0   7250.0                4      0  4.0   \n",
       "4         6   9099.0   7040.0                3      0  4.0   \n",
       "...     ...      ...      ...              ...    ...  ...   \n",
       "1166      5   3099.0   5100.0                1      1  3.0   \n",
       "1167      5   4089.0   5100.0                2      1  4.0   \n",
       "1168      5   6299.0   7500.0                4      0  4.0   \n",
       "1169      6   3299.0   5100.0                1      0  3.0   \n",
       "1170      6   4780.0   7040.0                3      1  4.0   \n",
       "\n",
       "      isletimsistemitabani  islemcicekirdek  ekranboyutu  diskkapasitesi  \\\n",
       "0                        2                6         11.5           128.0   \n",
       "1                        0                6         11.5           128.0   \n",
       "2                        0                6         12.4            64.0   \n",
       "3                        2                1         10.4           128.0   \n",
       "4                        0                6         10.4            64.0   \n",
       "...                    ...              ...          ...             ...   \n",
       "1166                     0                4          8.0            32.0   \n",
       "1167                     0                6          9.0            64.0   \n",
       "1168                     0                6         10.6           128.0   \n",
       "1169                     0                3          8.7            32.0   \n",
       "1170                     0                6         11.0             4.0   \n",
       "\n",
       "      EkranModeli  \n",
       "0               4  \n",
       "1               4  \n",
       "2              12  \n",
       "3               4  \n",
       "4              12  \n",
       "...           ...  \n",
       "1166            2  \n",
       "1167            4  \n",
       "1168            4  \n",
       "1169           12  \n",
       "1170           13  \n",
       "\n",
       "[1133 rows x 11 columns]"
      ]
     },
     "execution_count": 31,
     "metadata": {},
     "output_type": "execute_result"
    }
   ],
   "source": [
    "tablet"
   ]
  },
  {
   "cell_type": "markdown",
   "id": "ca60b7d4",
   "metadata": {},
   "source": [
    "# MODELLEME"
   ]
  },
  {
   "cell_type": "code",
   "execution_count": 32,
   "id": "97471e86",
   "metadata": {},
   "outputs": [],
   "source": [
    "from sklearn.model_selection import learning_curve, RandomizedSearchCV, GridSearchCV\n",
    "from sklearn.model_selection import train_test_split\n",
    "from sklearn.feature_selection import SelectKBest, f_classif, chi2\n",
    "from sklearn.preprocessing import MinMaxScaler, StandardScaler\n",
    "from sklearn.metrics import r2_score, mean_squared_error, mean_absolute_error"
   ]
  },
  {
   "cell_type": "code",
   "execution_count": 33,
   "id": "6b2cce88",
   "metadata": {},
   "outputs": [
    {
     "name": "stdout",
     "output_type": "stream",
     "text": [
      "x_train : (906, 10)\n",
      "x_test : (227, 10)\n",
      "y_train : (906,)\n",
      "y_test : (227,)\n"
     ]
    }
   ],
   "source": [
    "from sklearn.model_selection import train_test_split\n",
    "X = tablet.drop(['fiyat'], axis=1)\n",
    "y = tablet['fiyat']\n",
    "x_train, x_test, y_train, y_test = train_test_split(X, y, test_size=0.2, random_state=0 )\n",
    "\n",
    "print('x_train :', x_train.shape)\n",
    "print('x_test :', x_test.shape)\n",
    "print('y_train :', y_train.shape)\n",
    "print('y_test :', y_test.shape)"
   ]
  },
  {
   "cell_type": "code",
   "execution_count": 34,
   "id": "6c037e66",
   "metadata": {},
   "outputs": [],
   "source": [
    "from sklearn.linear_model import LinearRegression, Lasso"
   ]
  },
  {
   "cell_type": "code",
   "execution_count": 35,
   "id": "a7fd2639",
   "metadata": {},
   "outputs": [
    {
     "data": {
      "text/plain": [
       "array([10051.50609559,  7850.20499379, 21057.7938634 ,  3350.53685101,\n",
       "       24357.49563062, 12118.3552428 , 21057.7938634 ,  3110.03697188,\n",
       "       24447.36281581, 24447.36281581, 24133.11556791, 24133.11556791,\n",
       "       10051.50609559,  8574.29306143, 24133.11556791, 24133.11556791,\n",
       "       24133.11556791,  9732.57455659,  4594.72873674,   -98.49035933,\n",
       "       24133.11556791,  7447.12832576, 18166.08420064, 14378.92206354,\n",
       "        3110.03697188, 10051.50609559,  2820.34477578,  7850.20499379,\n",
       "       28676.10262093, 24133.11556791,  7645.01429751,  7447.12832576,\n",
       "       24447.36281581, 24133.11556791,  8800.59340951,  1885.41903414,\n",
       "       24133.11556791,  7850.20499379,  7850.20499379, 24357.49563062,\n",
       "        3463.4617895 , 24133.11556791,  2820.34477578,  7259.99773373,\n",
       "        8574.29306143,  8800.59340951,  3350.53685101,  -483.67531815,\n",
       "        9571.4833592 , 10051.50609559,  9571.4833592 ,  8574.29306143,\n",
       "       18166.08420064,  7259.99773373,  7259.99773373, 25982.06007905,\n",
       "        5683.67259038,  7850.20499379,  9571.4833592 , 18166.08420064,\n",
       "        8197.89232376,  2820.34477578, 14378.92206354,  3942.2547958 ,\n",
       "        9571.4833592 , 27274.35154634, 15133.75766841, 10989.57746304,\n",
       "        7850.20499379,  8310.4442869 ,  6817.54580217, 10954.21453997,\n",
       "        4850.97215815,  9571.4833592 , 14600.17469997, 11370.17003878,\n",
       "        7850.20499379, 10989.57746304,  7850.20499379,  8369.58125032,\n",
       "        7850.20499379, 24357.49563062,  7850.20499379,  7850.20499379,\n",
       "       15343.25583367,  7447.12832576,  3350.53685101,  3110.03697188,\n",
       "        3110.03697188,  4700.66481306,  1885.41903414, 14378.92206354,\n",
       "       15133.75766841,  3110.03697188,  4161.91902051,  4968.2932963 ,\n",
       "       10747.99166755, 15133.75766841,  1885.41903414, 24357.49563062,\n",
       "       24133.11556791,  7259.99773373,  7259.99773373, 10989.57746304,\n",
       "        7595.10831704, 10989.57746304,  3110.03697188,  8574.29306143,\n",
       "        7447.12832576, 15133.75766841,  7850.20499379,  9571.4833592 ,\n",
       "        7850.20499379,  1885.41903414,  8800.59340951,  8170.33448326,\n",
       "       10051.50609559, 24133.11556791,  4594.72873674,   -98.49035933,\n",
       "       24357.49563062, 14378.92206354, 23745.02654873,  4594.72873674,\n",
       "        4489.97965411,  3463.4617895 ,  7447.12832576,  2820.34477578,\n",
       "        7447.12832576,  7595.10831704,  3350.53685101, 15133.75766841,\n",
       "        2820.34477578,  4940.12510363,  8574.29306143,  9571.4833592 ,\n",
       "        7259.99773373,  4057.87074334,  7340.23155241,  3350.53685101,\n",
       "        7850.20499379, 18166.08420064,  4693.54526984, 27272.71484192,\n",
       "        7850.20499379,  3942.2547958 ,  8574.29306143,  7850.20499379,\n",
       "       22546.12117977, 24133.11556791,  8800.59340951,  7447.12832576,\n",
       "        9571.4833592 ,  7259.99773373,  2832.44795011, 24133.11556791,\n",
       "        9648.94246748,  6649.50542223, 14612.92847587,  8574.29306143,\n",
       "       27519.21243276,   -98.49035933,  5631.97738936, 24447.36281581,\n",
       "       24133.11556791,  7259.99773373, 14378.92206354,  1885.41903414,\n",
       "       15133.75766841,  7850.20499379,  3942.2547958 , 24133.11556791,\n",
       "       21057.7938634 ,  7259.99773373, 24133.11556791,  7447.12832576,\n",
       "       14378.92206354,  7850.20499379,  2820.34477578, 10989.57746304,\n",
       "       12290.83168651,  1189.81531601,  2882.9982632 ,  8800.59340951,\n",
       "        8800.59340951,  6807.54911508, 14378.92206354,   891.28256068,\n",
       "       24447.36281581, 18166.08420064,  1935.55636651, 27880.8729662 ,\n",
       "       16628.37598912, 24447.36281581,  3110.03697188,  2170.58311907,\n",
       "        7850.20499379, 24447.36281581,  7447.12832576,  8574.29306143,\n",
       "        5512.66394496, 14612.92847587,  4594.72873674,  4700.66481306,\n",
       "        3461.89812064, 10989.57746304, 24447.36281581, 24133.11556791,\n",
       "         -98.49035933, 18166.08420064,  4860.53030809,  8574.29306143,\n",
       "        8800.59340951, 21057.7938634 ,  3942.2547958 , 24357.49563062,\n",
       "        4057.87074334, 24447.36281581, 24133.11556791,  7850.20499379,\n",
       "       15133.75766841,  3942.2547958 ,  4577.71221306,  7259.99773373,\n",
       "        3110.03697188, 18166.08420064, 10051.50609559])"
      ]
     },
     "execution_count": 35,
     "metadata": {},
     "output_type": "execute_result"
    }
   ],
   "source": [
    "lr = LinearRegression()\n",
    "lr.fit(x_train,y_train)\n",
    "\n",
    "y_predict = lr.predict(x_test) \n",
    "y_predict  "
   ]
  },
  {
   "cell_type": "code",
   "execution_count": 36,
   "id": "4b23863d",
   "metadata": {},
   "outputs": [
    {
     "name": "stdout",
     "output_type": "stream",
     "text": [
      "Mean Absolute Error:  3948.9055432722935\n",
      "Root Mean Squared Error:  8080.130453822977\n",
      "Coefficient of Determination R^2:  0.4868000814970007\n"
     ]
    }
   ],
   "source": [
    "print('Mean Absolute Error: ',mean_absolute_error(y_test, y_predict))\n",
    "print('Root Mean Squared Error: ',np.sqrt(mean_squared_error(y_test,y_predict)))\n",
    "print('Coefficient of Determination R^2: ',r2_score(y_test,y_predict))"
   ]
  },
  {
   "cell_type": "code",
   "execution_count": 37,
   "id": "8958fa1e",
   "metadata": {},
   "outputs": [
    {
     "name": "stdout",
     "output_type": "stream",
     "text": [
      "Mean Absolute Error:  805.8817883749762\n",
      "Root Mean Squared Error:  3447.7954543272213\n",
      "Coefficient of Determination R^2:  0.9065600022793774\n"
     ]
    }
   ],
   "source": [
    "from sklearn.tree import DecisionTreeRegressor\n",
    "import matplotlib.pyplot as plt\n",
    "import pandas as pd\n",
    "from sklearn.metrics import mean_absolute_error, mean_squared_error, r2_score\n",
    "import numpy as np\n",
    "\n",
    "dt = DecisionTreeRegressor(splitter='best')\n",
    "dt.fit(x_train, y_train)\n",
    "\n",
    "y_predict_dt = dt.predict(x_test)\n",
    "\n",
    "print('Mean Absolute Error: ', mean_absolute_error(y_test, y_predict_dt))\n",
    "print('Root Mean Squared Error: ', np.sqrt(mean_squared_error(y_test, y_predict_dt)))\n",
    "print('Coefficient of Determination R^2: ', r2_score(y_test, y_predict_dt))"
   ]
  },
  {
   "cell_type": "code",
   "execution_count": 38,
   "id": "6bc679e2",
   "metadata": {},
   "outputs": [
    {
     "name": "stdout",
     "output_type": "stream",
     "text": [
      "Mean Absolute Error:  3948.90500220777\n",
      "Root Mean Squared Error:  8080.130578726996\n",
      "Coefficient of Determination R^2:  0.48680006563073885\n"
     ]
    }
   ],
   "source": [
    "lasso = Lasso(alpha=0.001)\n",
    "lasso.fit(x_train,y_train)\n",
    "y_predict_lasso = lasso.predict(x_test) \n",
    "\n",
    "print('Mean Absolute Error: ',mean_absolute_error(y_test, y_predict_lasso))\n",
    "print('Root Mean Squared Error: ',np.sqrt(mean_squared_error(y_test,y_predict_lasso)))\n",
    "print('Coefficient of Determination R^2: ',r2_score(y_test,y_predict_lasso))"
   ]
  },
  {
   "cell_type": "code",
   "execution_count": 39,
   "id": "d5be21b9",
   "metadata": {},
   "outputs": [
    {
     "name": "stdout",
     "output_type": "stream",
     "text": [
      "Mean Absolute Error:  1018.9185550821533\n",
      "Root Mean Squared Error:  3385.128797866331\n",
      "Coefficient of Determination R^2:  0.90992583837697\n"
     ]
    }
   ],
   "source": [
    "from sklearn.ensemble import RandomForestRegressor\n",
    "rf = RandomForestRegressor()\n",
    "rf.fit(x_train,y_train)\n",
    "y_predict_rf = rf.predict(x_test)\n",
    "\n",
    "print('Mean Absolute Error: ',mean_absolute_error(y_test, y_predict_rf))\n",
    "print('Root Mean Squared Error: ',np.sqrt(mean_squared_error(y_test,y_predict_rf)))\n",
    "print('Coefficient of Determination R^2: ',r2_score(y_test,y_predict_rf))"
   ]
  },
  {
   "cell_type": "code",
   "execution_count": 40,
   "id": "9c7469e6",
   "metadata": {},
   "outputs": [
    {
     "name": "stdout",
     "output_type": "stream",
     "text": [
      "Mean Absolute Error:  1299.7322870025341\n",
      "Root Mean Squared Error:  3474.6996147776927\n",
      "Coefficient of Determination R^2:  0.9050960331020198\n"
     ]
    }
   ],
   "source": [
    "from sklearn.ensemble import GradientBoostingRegressor\n",
    "from sklearn.metrics import mean_squared_error, r2_score, mean_absolute_error\n",
    "import numpy as np\n",
    "\n",
    "feature_names = x_train.columns\n",
    "\n",
    "gb_regressor = GradientBoostingRegressor(n_estimators=100, learning_rate=0.1, max_depth=3, random_state=0)\n",
    "gb_regressor.fit(x_train, y_train)\n",
    "\n",
    "y_pred_gb = gb_regressor.predict(x_test)\n",
    "\n",
    "print('Mean Absolute Error: ', mean_absolute_error(y_test, y_pred_gb))\n",
    "print('Root Mean Squared Error: ', np.sqrt(mean_squared_error(y_test, y_pred_gb)))\n",
    "print('Coefficient of Determination R^2: ', r2_score(y_test, y_pred_gb))"
   ]
  },
  {
   "cell_type": "code",
   "execution_count": 41,
   "id": "31f15dd1",
   "metadata": {},
   "outputs": [
    {
     "name": "stdout",
     "output_type": "stream",
     "text": [
      "Support Vector Regression Mean Absolute Error: 5230.455880887542\n",
      "Support Vector Regression Root Mean Squared Error: 10877.21348417456\n",
      "Support Vector Regression R-squared: 0.06999531045073881\n"
     ]
    }
   ],
   "source": [
    "from sklearn.svm import SVR\n",
    "from sklearn.preprocessing import StandardScaler\n",
    "from sklearn.metrics import mean_squared_error, r2_score, mean_absolute_error\n",
    "import numpy as np\n",
    "\n",
    "scaler = StandardScaler()\n",
    "x_train_scaled = scaler.fit_transform(x_train)\n",
    "x_test_scaled = scaler.transform(x_test)\n",
    "\n",
    "svr_regressor = SVR(kernel='linear', C=1.0)\n",
    "svr_regressor.fit(x_train_scaled, y_train)\n",
    "\n",
    "y_pred_svr = svr_regressor.predict(x_test_scaled)\n",
    "mse_svr = mean_squared_error(y_test, y_pred_svr)\n",
    "r2_svr = r2_score(y_test, y_pred_svr)\n",
    "\n",
    "print(\"Support Vector Regression Mean Absolute Error:\", mean_absolute_error(y_test, y_pred_svr))\n",
    "print(\"Support Vector Regression Root Mean Squared Error:\", np.sqrt(mse_svr))\n",
    "print(\"Support Vector Regression R-squared:\", r2_svr)\n"
   ]
  },
  {
   "cell_type": "code",
   "execution_count": 42,
   "id": "632f2187",
   "metadata": {},
   "outputs": [
    {
     "name": "stdout",
     "output_type": "stream",
     "text": [
      "Mean Absolute Error:  3876.5889926336936\n",
      "Root Mean Squared Error:  8118.9087258528425\n",
      "Coefficient of Determination R^2:  0.4818623491796987\n"
     ]
    }
   ],
   "source": [
    "from sklearn.linear_model import ElasticNet\n",
    "from sklearn.metrics import mean_absolute_error, mean_squared_error, r2_score\n",
    "import numpy as np\n",
    "\n",
    "elastic_net = ElasticNet(alpha=1.0, l1_ratio=0.5)  \n",
    "elastic_net.fit(x_train, y_train)\n",
    "\n",
    "y_predict_elastic_net = elastic_net.predict(x_test)\n",
    "\n",
    "print('Mean Absolute Error: ', mean_absolute_error(y_test, y_predict_elastic_net))\n",
    "print('Root Mean Squared Error: ', np.sqrt(mean_squared_error(y_test, y_predict_elastic_net)))\n",
    "print('Coefficient of Determination R^2: ', r2_score(y_test, y_predict_elastic_net))\n"
   ]
  },
  {
   "cell_type": "code",
   "execution_count": 43,
   "id": "17bcf8ac",
   "metadata": {},
   "outputs": [
    {
     "data": {
      "text/html": [
       "<style type=\"text/css\">\n",
       "#T_084a3_row0_col0, #T_084a3_row2_col0 {\n",
       "  background-color: #58ab58;\n",
       "  color: #f1f1f1;\n",
       "}\n",
       "#T_084a3_row0_col1, #T_084a3_row2_col1 {\n",
       "  background-color: #76ba76;\n",
       "  color: #f1f1f1;\n",
       "}\n",
       "#T_084a3_row1_col0 {\n",
       "  background-color: #e7f1e7;\n",
       "  color: #000000;\n",
       "}\n",
       "#T_084a3_row1_col1 {\n",
       "  background-color: #028102;\n",
       "  color: #f1f1f1;\n",
       "}\n",
       "#T_084a3_row3_col0, #T_084a3_row5_col1 {\n",
       "  background-color: #ebf3eb;\n",
       "  color: #000000;\n",
       "}\n",
       "#T_084a3_row3_col1, #T_084a3_row4_col1, #T_084a3_row5_col0 {\n",
       "  background-color: #008000;\n",
       "  color: #f1f1f1;\n",
       "}\n",
       "#T_084a3_row4_col0 {\n",
       "  background-color: #eaf2ea;\n",
       "  color: #000000;\n",
       "}\n",
       "#T_084a3_row6_col0 {\n",
       "  background-color: #56aa56;\n",
       "  color: #f1f1f1;\n",
       "}\n",
       "#T_084a3_row6_col1 {\n",
       "  background-color: #78bb78;\n",
       "  color: #f1f1f1;\n",
       "}\n",
       "</style>\n",
       "<table id=\"T_084a3\">\n",
       "  <thead>\n",
       "    <tr>\n",
       "      <th class=\"blank level0\" >&nbsp;</th>\n",
       "      <th id=\"T_084a3_level0_col0\" class=\"col_heading level0 col0\" >RMSE</th>\n",
       "      <th id=\"T_084a3_level0_col1\" class=\"col_heading level0 col1\" >R2</th>\n",
       "    </tr>\n",
       "  </thead>\n",
       "  <tbody>\n",
       "    <tr>\n",
       "      <th id=\"T_084a3_level0_row0\" class=\"row_heading level0 row0\" >Linear Regression</th>\n",
       "      <td id=\"T_084a3_row0_col0\" class=\"data row0 col0\" >8080.130000</td>\n",
       "      <td id=\"T_084a3_row0_col1\" class=\"data row0 col1\" >0.486000</td>\n",
       "    </tr>\n",
       "    <tr>\n",
       "      <th id=\"T_084a3_level0_row1\" class=\"row_heading level0 row1\" >Lasso</th>\n",
       "      <td id=\"T_084a3_row1_col0\" class=\"data row1 col0\" >3556.560000</td>\n",
       "      <td id=\"T_084a3_row1_col1\" class=\"data row1 col1\" >0.900000</td>\n",
       "    </tr>\n",
       "    <tr>\n",
       "      <th id=\"T_084a3_level0_row2\" class=\"row_heading level0 row2\" >Decision Tree Regressor</th>\n",
       "      <td id=\"T_084a3_row2_col0\" class=\"data row2 col0\" >8080.130000</td>\n",
       "      <td id=\"T_084a3_row2_col1\" class=\"data row2 col1\" >0.486000</td>\n",
       "    </tr>\n",
       "    <tr>\n",
       "      <th id=\"T_084a3_level0_row3\" class=\"row_heading level0 row3\" >Random Forest Regressor</th>\n",
       "      <td id=\"T_084a3_row3_col0\" class=\"data row3 col0\" >3427.370000</td>\n",
       "      <td id=\"T_084a3_row3_col1\" class=\"data row3 col1\" >0.907000</td>\n",
       "    </tr>\n",
       "    <tr>\n",
       "      <th id=\"T_084a3_level0_row4\" class=\"row_heading level0 row4\" >GradientBoostingRegressor</th>\n",
       "      <td id=\"T_084a3_row4_col0\" class=\"data row4 col0\" >3474.690000</td>\n",
       "      <td id=\"T_084a3_row4_col1\" class=\"data row4 col1\" >0.905000</td>\n",
       "    </tr>\n",
       "    <tr>\n",
       "      <th id=\"T_084a3_level0_row5\" class=\"row_heading level0 row5\" >SVR</th>\n",
       "      <td id=\"T_084a3_row5_col0\" class=\"data row5 col0\" >10877.210000</td>\n",
       "      <td id=\"T_084a3_row5_col1\" class=\"data row5 col1\" >0.069000</td>\n",
       "    </tr>\n",
       "    <tr>\n",
       "      <th id=\"T_084a3_level0_row6\" class=\"row_heading level0 row6\" >ElasticNet</th>\n",
       "      <td id=\"T_084a3_row6_col0\" class=\"data row6 col0\" >8118.900000</td>\n",
       "      <td id=\"T_084a3_row6_col1\" class=\"data row6 col1\" >0.481000</td>\n",
       "    </tr>\n",
       "  </tbody>\n",
       "</table>\n"
      ],
      "text/plain": [
       "<pandas.io.formats.style.Styler at 0x2a9d1cba7d0>"
      ]
     },
     "execution_count": 43,
     "metadata": {},
     "output_type": "execute_result"
    }
   ],
   "source": [
    "final_RMSE = pd.DataFrame( data  = [[8080.13, 3556.56, 8080.13, 3427.37,3474.69,10877.21,8118.90],\n",
    "                                    [0.486,0.900,0.486,0.907,0.905,0.069,0.481]],\n",
    "                          columns  = ['Linear Regression','Lasso','Decision Tree Regressor','Random Forest Regressor','GradientBoostingRegressor','SVR','ElasticNet'],\n",
    "                         index =['RMSE','R2'])\n",
    "\n",
    "\n",
    "final_RMSE = final_RMSE.T\n",
    "\n",
    "cm = sns.light_palette('green', as_cmap=True)\n",
    "\n",
    "final_RMSE = final_RMSE.style.background_gradient(cmap=cm)\n",
    "final_RMSE"
   ]
  },
  {
   "cell_type": "code",
   "execution_count": 44,
   "id": "28db2258",
   "metadata": {},
   "outputs": [
    {
     "name": "stdout",
     "output_type": "stream",
     "text": [
      "Fitting 3 folds for each of 180 candidates, totalling 540 fits\n"
     ]
    },
    {
     "name": "stderr",
     "output_type": "stream",
     "text": [
      "C:\\Users\\sezen\\anaconda3\\Lib\\site-packages\\sklearn\\model_selection\\_validation.py:425: FitFailedWarning: \n",
      "180 fits failed out of a total of 540.\n",
      "The score on these train-test partitions for these parameters will be set to nan.\n",
      "If these failures are not expected, you can try to debug them by setting error_score='raise'.\n",
      "\n",
      "Below are more details about the failures:\n",
      "--------------------------------------------------------------------------------\n",
      "180 fits failed with the following error:\n",
      "Traceback (most recent call last):\n",
      "  File \"C:\\Users\\sezen\\anaconda3\\Lib\\site-packages\\sklearn\\model_selection\\_validation.py\", line 732, in _fit_and_score\n",
      "    estimator.fit(X_train, y_train, **fit_params)\n",
      "  File \"C:\\Users\\sezen\\anaconda3\\Lib\\site-packages\\sklearn\\base.py\", line 1144, in wrapper\n",
      "    estimator._validate_params()\n",
      "  File \"C:\\Users\\sezen\\anaconda3\\Lib\\site-packages\\sklearn\\base.py\", line 637, in _validate_params\n",
      "    validate_parameter_constraints(\n",
      "  File \"C:\\Users\\sezen\\anaconda3\\Lib\\site-packages\\sklearn\\utils\\_param_validation.py\", line 95, in validate_parameter_constraints\n",
      "    raise InvalidParameterError(\n",
      "sklearn.utils._param_validation.InvalidParameterError: The 'max_features' parameter of GradientBoostingRegressor must be an int in the range [1, inf), a float in the range (0.0, 1.0], a str among {'log2', 'sqrt'} or None. Got 'auto' instead.\n",
      "\n",
      "  warnings.warn(some_fits_failed_message, FitFailedWarning)\n",
      "C:\\Users\\sezen\\anaconda3\\Lib\\site-packages\\sklearn\\model_selection\\_search.py:976: UserWarning: One or more of the test scores are non-finite: [       nan        nan        nan        nan        nan 0.1206871\n",
      " 0.44628449 0.64049995 0.77077712 0.81682611 0.1206871  0.44628449\n",
      " 0.64049995 0.77077712 0.81682611        nan        nan        nan\n",
      "        nan        nan 0.1377629  0.49991978 0.70136763 0.81626346\n",
      " 0.84795319 0.1377629  0.49991978 0.70136763 0.81626346 0.84795319\n",
      "        nan        nan        nan        nan        nan 0.14756226\n",
      " 0.518176   0.71564381 0.8236179  0.84515209 0.14756226 0.518176\n",
      " 0.71564381 0.8236179  0.84515209        nan        nan        nan\n",
      "        nan        nan 0.62932424 0.79908272 0.81969534 0.8299632\n",
      " 0.83888101 0.62932424 0.79908272 0.81969534 0.8299632  0.83888101\n",
      "        nan        nan        nan        nan        nan 0.705587\n",
      " 0.84550012 0.85134585 0.85368206 0.85395482 0.705587   0.84550012\n",
      " 0.85134585 0.85368206 0.85395482        nan        nan        nan\n",
      "        nan        nan 0.72295403 0.84266903 0.84346902 0.84363573\n",
      " 0.84364716 0.72295403 0.84266903 0.84346902 0.84363573 0.84364716\n",
      "        nan        nan        nan        nan        nan 0.74460621\n",
      " 0.80951633 0.82385297 0.82946683 0.83372738 0.74460621 0.80951633\n",
      " 0.82385297 0.82946683 0.83372738        nan        nan        nan\n",
      "        nan        nan 0.81456036 0.84850406 0.84949652 0.84998892\n",
      " 0.85005656 0.81456036 0.84850406 0.84949652 0.84998892 0.85005656\n",
      "        nan        nan        nan        nan        nan 0.81017408\n",
      " 0.82663327 0.82672472 0.82672828 0.82672822 0.81017408 0.82663327\n",
      " 0.82672472 0.82672828 0.82672822        nan        nan        nan\n",
      "        nan        nan 0.7867541  0.82541966 0.8341244  0.8355362\n",
      " 0.83709048 0.7867541  0.82541966 0.8341244  0.8355362  0.83709048\n",
      "        nan        nan        nan        nan        nan 0.83219786\n",
      " 0.83531339 0.83523156 0.83522469 0.83521943 0.83219786 0.83531339\n",
      " 0.83523156 0.83522469 0.83521943        nan        nan        nan\n",
      "        nan        nan 0.8411346  0.84264828 0.84264633 0.84264633\n",
      " 0.84264633 0.8411346  0.84264828 0.84264633 0.84264633 0.84264633]\n",
      "  warnings.warn(\n"
     ]
    },
    {
     "name": "stdout",
     "output_type": "stream",
     "text": [
      "En iyi parametreler: {'learning_rate': 0.1, 'max_depth': 5, 'max_features': 'sqrt', 'n_estimators': 500}\n",
      "En iyi model: GradientBoostingRegressor(max_depth=5, max_features='sqrt', n_estimators=500,\n",
      "                          random_state=0)\n",
      "Gradient Boosting Mean Squared Error: 7635260.874702338\n",
      "Gradient Boosting R-squared: 0.9399830786515143\n"
     ]
    }
   ],
   "source": [
    "from sklearn.model_selection import GridSearchCV\n",
    "from sklearn.ensemble import GradientBoostingRegressor\n",
    "\n",
    "# Gradient Boosting için parametre ızgarası\n",
    "params_grid_gb = {\n",
    "    'n_estimators': [10, 50, 100, 200, 500],\n",
    "    'learning_rate': [0.01, 0.1, 0.2, 0.5],\n",
    "    'max_depth': [3, 5, 7],\n",
    "    'max_features': ['auto', 'sqrt', 'log2']\n",
    "}\n",
    "\n",
    "# Gradient Boosting Regresyon modeli\n",
    "gb_regressor = GradientBoostingRegressor(random_state=0)\n",
    "\n",
    "# Grid Search\n",
    "grid_search_gb = GridSearchCV(gb_regressor, params_grid_gb, verbose=1, cv=3)\n",
    "grid_search_gb.fit(x_train, y_train)\n",
    "\n",
    "# En iyi parametreleri ve en iyi tahmin modelini görüntüleme\n",
    "print(\"En iyi parametreler:\", grid_search_gb.best_params_)\n",
    "print(\"En iyi model:\", grid_search_gb.best_estimator_)\n",
    "\n",
    "# Test seti üzerinde tahmin yapma\n",
    "y_pred_gb = grid_search_gb.best_estimator_.predict(x_test)\n",
    "\n",
    "# Regresyon modelinin performansını değerlendirme\n",
    "mse_gb = mean_squared_error(y_test, y_pred_gb)\n",
    "r2_gb = r2_score(y_test, y_pred_gb)\n",
    "\n",
    "print(\"Gradient Boosting Mean Squared Error:\", mse_gb)\n",
    "print(\"Gradient Boosting R-squared:\", r2_gb)"
   ]
  },
  {
   "cell_type": "code",
   "execution_count": 45,
   "id": "a1aba2c5",
   "metadata": {},
   "outputs": [
    {
     "data": {
      "text/plain": [
       "['C:\\\\Models\\\\gradient_boosting_regresyon_model.pkl']"
      ]
     },
     "execution_count": 45,
     "metadata": {},
     "output_type": "execute_result"
    }
   ],
   "source": [
    "import joblib\n",
    "joblib.dump(gb_regressor,\"gradient_boosting_regresyon_model.pkl\")"
   ]
  },
  {
   "cell_type": "code",
   "execution_count": null,
   "id": "f3d0fedf",
   "metadata": {},
   "outputs": [],
   "source": []
  },
  {
   "cell_type": "code",
   "execution_count": null,
   "id": "c5b683b2",
   "metadata": {},
   "outputs": [],
   "source": []
  }
 ],
 "metadata": {
  "kernelspec": {
   "display_name": "Python 3 (ipykernel)",
   "language": "python",
   "name": "python3"
  },
  "language_info": {
   "codemirror_mode": {
    "name": "ipython",
    "version": 3
   },
   "file_extension": ".py",
   "mimetype": "text/x-python",
   "name": "python",
   "nbconvert_exporter": "python",
   "pygments_lexer": "ipython3",
   "version": "3.11.4"
  }
 },
 "nbformat": 4,
 "nbformat_minor": 5
}
